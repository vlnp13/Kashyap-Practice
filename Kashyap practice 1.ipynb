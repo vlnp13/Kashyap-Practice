{
 "cells": [
  {
   "cell_type": "code",
   "execution_count": 1,
   "id": "fb5c78e8",
   "metadata": {},
   "outputs": [
    {
     "name": "stdout",
     "output_type": "stream",
     "text": [
      "Hello Kashyap, Welcome to Git\n"
     ]
    }
   ],
   "source": [
    "print('Hello Kashyap, Welcome to Git')"
   ]
  },
  {
   "cell_type": "code",
   "execution_count": null,
   "id": "be16dc68",
   "metadata": {},
   "outputs": [],
   "source": []
  }
 ],
 "metadata": {
  "kernelspec": {
   "display_name": "Python 3 (ipykernel)",
   "language": "python",
   "name": "python3"
  },
  "language_info": {
   "codemirror_mode": {
    "name": "ipython",
    "version": 3
   },
   "file_extension": ".py",
   "mimetype": "text/x-python",
   "name": "python",
   "nbconvert_exporter": "python",
   "pygments_lexer": "ipython3",
   "version": "3.9.7"
  }
 },
 "nbformat": 4,
 "nbformat_minor": 5
}
